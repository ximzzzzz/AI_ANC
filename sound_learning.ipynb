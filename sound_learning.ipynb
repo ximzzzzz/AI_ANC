{
 "cells": [
  {
   "cell_type": "code",
   "execution_count": 1,
   "metadata": {},
   "outputs": [],
   "source": [
    "import os\n",
    "import numpy as np\n",
    "import sys\n",
    "import librosa\n",
    "import matplotlib.pyplot as plt\n",
    "from tqdm import tqdm_notebook as tqdm\n",
    "import tensorflow as tf"
   ]
  },
  {
   "cell_type": "markdown",
   "metadata": {},
   "source": [
    "## load"
   ]
  },
  {
   "cell_type": "code",
   "execution_count": 2,
   "metadata": {},
   "outputs": [],
   "source": [
    "file_names = os.listdir('./data')\n",
    "file_names.remove('.ipynb_checkpoints')"
   ]
  },
  {
   "cell_type": "code",
   "execution_count": 3,
   "metadata": {},
   "outputs": [
    {
     "name": "stderr",
     "output_type": "stream",
     "text": [
      "/usr/local/lib/python3.6/dist-packages/librosa/core/audio.py:161: UserWarning: PySoundFile failed. Trying audioread instead.\n",
      "  warnings.warn('PySoundFile failed. Trying audioread instead.')\n",
      "/usr/local/lib/python3.6/dist-packages/librosa/core/audio.py:161: UserWarning: PySoundFile failed. Trying audioread instead.\n",
      "  warnings.warn('PySoundFile failed. Trying audioread instead.')\n",
      "/usr/local/lib/python3.6/dist-packages/librosa/core/audio.py:161: UserWarning: PySoundFile failed. Trying audioread instead.\n",
      "  warnings.warn('PySoundFile failed. Trying audioread instead.')\n",
      "/usr/local/lib/python3.6/dist-packages/librosa/core/audio.py:161: UserWarning: PySoundFile failed. Trying audioread instead.\n",
      "  warnings.warn('PySoundFile failed. Trying audioread instead.')\n",
      "/usr/local/lib/python3.6/dist-packages/librosa/core/audio.py:161: UserWarning: PySoundFile failed. Trying audioread instead.\n",
      "  warnings.warn('PySoundFile failed. Trying audioread instead.')\n",
      "/usr/local/lib/python3.6/dist-packages/librosa/core/audio.py:161: UserWarning: PySoundFile failed. Trying audioread instead.\n",
      "  warnings.warn('PySoundFile failed. Trying audioread instead.')\n",
      "/usr/local/lib/python3.6/dist-packages/librosa/core/audio.py:161: UserWarning: PySoundFile failed. Trying audioread instead.\n",
      "  warnings.warn('PySoundFile failed. Trying audioread instead.')\n",
      "/usr/local/lib/python3.6/dist-packages/librosa/core/audio.py:161: UserWarning: PySoundFile failed. Trying audioread instead.\n",
      "  warnings.warn('PySoundFile failed. Trying audioread instead.')\n",
      "/usr/local/lib/python3.6/dist-packages/librosa/core/audio.py:161: UserWarning: PySoundFile failed. Trying audioread instead.\n",
      "  warnings.warn('PySoundFile failed. Trying audioread instead.')\n",
      "/usr/local/lib/python3.6/dist-packages/librosa/core/audio.py:161: UserWarning: PySoundFile failed. Trying audioread instead.\n",
      "  warnings.warn('PySoundFile failed. Trying audioread instead.')\n",
      "/usr/local/lib/python3.6/dist-packages/librosa/core/audio.py:161: UserWarning: PySoundFile failed. Trying audioread instead.\n",
      "  warnings.warn('PySoundFile failed. Trying audioread instead.')\n",
      "/usr/local/lib/python3.6/dist-packages/librosa/core/audio.py:161: UserWarning: PySoundFile failed. Trying audioread instead.\n",
      "  warnings.warn('PySoundFile failed. Trying audioread instead.')\n",
      "/usr/local/lib/python3.6/dist-packages/librosa/core/audio.py:161: UserWarning: PySoundFile failed. Trying audioread instead.\n",
      "  warnings.warn('PySoundFile failed. Trying audioread instead.')\n",
      "/usr/local/lib/python3.6/dist-packages/librosa/core/audio.py:161: UserWarning: PySoundFile failed. Trying audioread instead.\n",
      "  warnings.warn('PySoundFile failed. Trying audioread instead.')\n",
      "/usr/local/lib/python3.6/dist-packages/librosa/core/audio.py:161: UserWarning: PySoundFile failed. Trying audioread instead.\n",
      "  warnings.warn('PySoundFile failed. Trying audioread instead.')\n",
      "/usr/local/lib/python3.6/dist-packages/librosa/core/audio.py:161: UserWarning: PySoundFile failed. Trying audioread instead.\n",
      "  warnings.warn('PySoundFile failed. Trying audioread instead.')\n",
      "/usr/local/lib/python3.6/dist-packages/librosa/core/audio.py:161: UserWarning: PySoundFile failed. Trying audioread instead.\n",
      "  warnings.warn('PySoundFile failed. Trying audioread instead.')\n",
      "/usr/local/lib/python3.6/dist-packages/librosa/core/audio.py:161: UserWarning: PySoundFile failed. Trying audioread instead.\n",
      "  warnings.warn('PySoundFile failed. Trying audioread instead.')\n",
      "/usr/local/lib/python3.6/dist-packages/librosa/core/audio.py:161: UserWarning: PySoundFile failed. Trying audioread instead.\n",
      "  warnings.warn('PySoundFile failed. Trying audioread instead.')\n",
      "/usr/local/lib/python3.6/dist-packages/librosa/core/audio.py:161: UserWarning: PySoundFile failed. Trying audioread instead.\n",
      "  warnings.warn('PySoundFile failed. Trying audioread instead.')\n",
      "/usr/local/lib/python3.6/dist-packages/librosa/core/audio.py:161: UserWarning: PySoundFile failed. Trying audioread instead.\n",
      "  warnings.warn('PySoundFile failed. Trying audioread instead.')\n",
      "/usr/local/lib/python3.6/dist-packages/librosa/core/audio.py:161: UserWarning: PySoundFile failed. Trying audioread instead.\n",
      "  warnings.warn('PySoundFile failed. Trying audioread instead.')\n"
     ]
    }
   ],
   "source": [
    "data_list = []\n",
    "for file in file_names:\n",
    "    load_data, sr = librosa.core.load(os.path.join('./data', file), sr=44100)\n",
    "    data_list.append(load_data)"
   ]
  },
  {
   "cell_type": "code",
   "execution_count": 6,
   "metadata": {
    "scrolled": true
   },
   "outputs": [
    {
     "data": {
      "text/plain": [
       "(88200,)"
      ]
     },
     "execution_count": 6,
     "metadata": {},
     "output_type": "execute_result"
    }
   ],
   "source": [
    "data_list[0].shape"
   ]
  },
  {
   "cell_type": "code",
   "execution_count": 9,
   "metadata": {
    "scrolled": true
   },
   "outputs": [
    {
     "name": "stdout",
     "output_type": "stream",
     "text": [
      "(88200,)\n",
      "(124909,)\n",
      "(88200,)\n",
      "(88200,)\n",
      "(78542,)\n",
      "(105182,)\n",
      "(88200,)\n",
      "(88200,)\n",
      "(114874,)\n",
      "(88200,)\n",
      "(88200,)\n",
      "(88200,)\n",
      "(88200,)\n",
      "(88200,)\n",
      "(88200,)\n",
      "(88200,)\n",
      "(88200,)\n",
      "(88200,)\n",
      "(40774,)\n"
     ]
    },
    {
     "name": "stderr",
     "output_type": "stream",
     "text": [
      "/usr/local/lib/python3.6/dist-packages/ipykernel_launcher.py:4: DeprecationWarning: elementwise comparison failed; this will raise an error in the future.\n",
      "  after removing the cwd from sys.path.\n"
     ]
    }
   ],
   "source": [
    "for i in range(len(data_list)):\n",
    "    try:\n",
    "        if (data_list[i].shape[0] > 160000) or (data_list[i].shape[0] < 30000): \n",
    "            data_list.remove(data_list[i]) #너무큰애는 버리기\n",
    "    except IndexError:\n",
    "        print('index error at index {}'.format(i))\n",
    "    \n",
    "for i in range(len(data_list)):\n",
    "    print(data_list[i].shape)"
   ]
  },
  {
   "cell_type": "markdown",
   "metadata": {},
   "source": [
    "### dataset"
   ]
  },
  {
   "cell_type": "code",
   "execution_count": 10,
   "metadata": {},
   "outputs": [],
   "source": [
    "import time"
   ]
  },
  {
   "cell_type": "code",
   "execution_count": 10,
   "metadata": {},
   "outputs": [],
   "source": [
    "look_back = 1102\n",
    "latency = 2205\n",
    "target_size = 10000"
   ]
  },
  {
   "cell_type": "code",
   "execution_count": 11,
   "metadata": {},
   "outputs": [
    {
     "data": {
      "application/vnd.jupyter.widget-view+json": {
       "model_id": "fbf29cf815d74081af936be5ccbe695d",
       "version_major": 2,
       "version_minor": 0
      },
      "text/plain": [
       "HBox(children=(IntProgress(value=0, max=19), HTML(value='')))"
      ]
     },
     "metadata": {},
     "output_type": "display_data"
    },
    {
     "name": "stdout",
     "output_type": "stream",
     "text": [
      "\n"
     ]
    }
   ],
   "source": [
    "x_list = []\n",
    "y_list = []\n",
    "for i in tqdm(range(len(data_list))):\n",
    "# for i in range(1):\n",
    "    for j in range(0, 30000, 500):\n",
    "        x_ = data_list[i][j :look_back+j ]\n",
    "        mfcc = librosa.feature.mfcc(y = x_, sr=sr)\n",
    "        y_ = data_list[i][look_back+j+latency : look_back+j+latency+target_size] *100\n",
    "        y_filled = np.zeros((target_size,))\n",
    "        y_filled[ : y_.shape[0]] = y_\n",
    "#         x_list.append(x_)\n",
    "        x_list.append(mfcc)\n",
    "        y_list.append(y_filled)"
   ]
  },
  {
   "cell_type": "code",
   "execution_count": 12,
   "metadata": {},
   "outputs": [],
   "source": [
    "train_x = np.asarray(x_list)\n",
    "train_y = np.asarray(y_list)"
   ]
  },
  {
   "cell_type": "code",
   "execution_count": 96,
   "metadata": {},
   "outputs": [],
   "source": [
    "# spectro = librosa.feature.melspectrogram(x_list[0], sr)\n",
    "# S_dB = librosa.power_to_db(spectro, ref=np.max)"
   ]
  },
  {
   "cell_type": "markdown",
   "metadata": {},
   "source": [
    "## train"
   ]
  },
  {
   "cell_type": "code",
   "execution_count": 17,
   "metadata": {},
   "outputs": [
    {
     "name": "stderr",
     "output_type": "stream",
     "text": [
      "Using TensorFlow backend.\n"
     ]
    }
   ],
   "source": [
    "import keras\n",
    "from keras.layers import *\n",
    "from keras.models import Model\n",
    "from keras import *\n",
    "from keras.layers.advanced_activations import *"
   ]
  },
  {
   "cell_type": "code",
   "execution_count": 18,
   "metadata": {},
   "outputs": [
    {
     "data": {
      "text/plain": [
       "(1050, 20, 2)"
      ]
     },
     "execution_count": 18,
     "metadata": {},
     "output_type": "execute_result"
    }
   ],
   "source": [
    "# train_x = train_x.reshape((-1, look_back, 1))\n",
    "train_x.shape"
   ]
  },
  {
   "cell_type": "code",
   "execution_count": 20,
   "metadata": {
    "collapsed": true
   },
   "outputs": [
    {
     "name": "stdout",
     "output_type": "stream",
     "text": [
      "Epoch 1/50\n",
      "1050/1050 [==============================] - 4s 4ms/step - loss: 99.2467\n",
      "Epoch 2/50\n",
      "1050/1050 [==============================] - 1s 701us/step - loss: 99.0022\n",
      "Epoch 3/50\n",
      "1050/1050 [==============================] - 1s 685us/step - loss: 98.4176\n",
      "Epoch 4/50\n",
      "1050/1050 [==============================] - 1s 693us/step - loss: 97.4294\n",
      "Epoch 5/50\n",
      "1050/1050 [==============================] - 1s 709us/step - loss: 96.2152\n",
      "Epoch 6/50\n",
      "1050/1050 [==============================] - 1s 679us/step - loss: 94.1800\n",
      "Epoch 7/50\n",
      "1050/1050 [==============================] - 1s 686us/step - loss: 92.4021\n",
      "Epoch 8/50\n",
      "1050/1050 [==============================] - 1s 681us/step - loss: 88.8211\n",
      "Epoch 9/50\n",
      "1050/1050 [==============================] - 1s 681us/step - loss: 86.0962\n",
      "Epoch 10/50\n",
      "1050/1050 [==============================] - 1s 683us/step - loss: 81.2143\n",
      "Epoch 11/50\n",
      "1050/1050 [==============================] - 1s 691us/step - loss: 77.1755\n",
      "Epoch 12/50\n",
      "1050/1050 [==============================] - 1s 681us/step - loss: 73.6665\n",
      "Epoch 13/50\n",
      "1050/1050 [==============================] - 1s 675us/step - loss: 73.8566\n",
      "Epoch 14/50\n",
      "1050/1050 [==============================] - 1s 686us/step - loss: 67.5251\n",
      "Epoch 15/50\n",
      "1050/1050 [==============================] - 1s 694us/step - loss: 65.2046\n",
      "Epoch 16/50\n",
      "1050/1050 [==============================] - 1s 691us/step - loss: 64.9282\n",
      "Epoch 17/50\n",
      "1050/1050 [==============================] - 1s 688us/step - loss: 62.7758\n",
      "Epoch 18/50\n",
      "1050/1050 [==============================] - 1s 695us/step - loss: 63.7663\n",
      "Epoch 19/50\n",
      "1050/1050 [==============================] - 1s 681us/step - loss: 60.7995\n",
      "Epoch 20/50\n",
      "1050/1050 [==============================] - 1s 707us/step - loss: 60.2108\n",
      "Epoch 21/50\n",
      "1050/1050 [==============================] - 1s 670us/step - loss: 59.3259\n",
      "Epoch 22/50\n",
      "1050/1050 [==============================] - 1s 697us/step - loss: 60.2092\n",
      "Epoch 23/50\n",
      "1050/1050 [==============================] - 1s 692us/step - loss: 59.9849\n",
      "Epoch 24/50\n",
      "1050/1050 [==============================] - 1s 685us/step - loss: 59.8944\n",
      "Epoch 25/50\n",
      "1050/1050 [==============================] - 1s 691us/step - loss: 59.4619\n",
      "Epoch 26/50\n",
      "1050/1050 [==============================] - 1s 677us/step - loss: 59.6792\n",
      "Epoch 27/50\n",
      "1050/1050 [==============================] - 1s 668us/step - loss: 59.1385\n",
      "Epoch 28/50\n",
      "1050/1050 [==============================] - 1s 689us/step - loss: 59.0898\n",
      "Epoch 29/50\n",
      "1050/1050 [==============================] - 1s 671us/step - loss: 58.2224\n",
      "Epoch 30/50\n",
      "1050/1050 [==============================] - 1s 672us/step - loss: 58.3049\n",
      "Epoch 31/50\n",
      "1050/1050 [==============================] - 1s 677us/step - loss: 58.5873\n",
      "Epoch 32/50\n",
      "1050/1050 [==============================] - 1s 684us/step - loss: 59.1047\n",
      "Epoch 33/50\n",
      "1050/1050 [==============================] - 1s 684us/step - loss: 58.1090\n",
      "Epoch 34/50\n",
      "1050/1050 [==============================] - 1s 679us/step - loss: 58.3526\n",
      "Epoch 35/50\n",
      "1050/1050 [==============================] - 1s 703us/step - loss: 58.1260\n",
      "Epoch 36/50\n",
      "1050/1050 [==============================] - 1s 693us/step - loss: 57.5453\n",
      "Epoch 37/50\n",
      "1050/1050 [==============================] - 1s 670us/step - loss: 58.2166\n",
      "Epoch 38/50\n",
      "1050/1050 [==============================] - 1s 677us/step - loss: 57.7142\n",
      "Epoch 39/50\n",
      "1050/1050 [==============================] - 1s 672us/step - loss: 59.0182\n",
      "Epoch 40/50\n",
      "1050/1050 [==============================] - 1s 685us/step - loss: 57.8585\n",
      "Epoch 41/50\n",
      "1050/1050 [==============================] - 1s 677us/step - loss: 58.8450\n",
      "Epoch 42/50\n",
      "1050/1050 [==============================] - 1s 684us/step - loss: 56.6517\n",
      "Epoch 43/50\n",
      "1050/1050 [==============================] - 1s 674us/step - loss: 57.7135\n",
      "Epoch 44/50\n",
      "1050/1050 [==============================] - 1s 686us/step - loss: 57.4887\n",
      "Epoch 45/50\n",
      "1050/1050 [==============================] - 1s 697us/step - loss: 57.4259\n",
      "Epoch 46/50\n",
      "1050/1050 [==============================] - 1s 684us/step - loss: 56.7988\n",
      "Epoch 47/50\n",
      "1050/1050 [==============================] - 1s 677us/step - loss: 56.7474\n",
      "Epoch 48/50\n",
      "1050/1050 [==============================] - 1s 686us/step - loss: 55.9950\n",
      "Epoch 49/50\n",
      "1050/1050 [==============================] - 1s 684us/step - loss: 56.6749\n",
      "Epoch 50/50\n",
      "1050/1050 [==============================] - 1s 681us/step - loss: 57.2150\n"
     ]
    },
    {
     "data": {
      "text/plain": [
       "<keras.callbacks.History at 0x7fad10108cf8>"
      ]
     },
     "execution_count": 20,
     "metadata": {},
     "output_type": "execute_result"
    }
   ],
   "source": [
    "# n_target = train_y.shape[1]\n",
    "\n",
    "# model = Sequential()\n",
    "# model.add(LSTM(32, input_shape=(train_x.shape[1], train_x.shape[2]), return_sequences=True))\n",
    "# model.add(Activation(LeakyReLU()))\n",
    "# model.add(LSTM(32, return_sequences=False))\n",
    "# model.add(BatchNormalization())\n",
    "# model.add(Dropout(0.3))\n",
    "# model.add(Activation(LeakyReLU()))\n",
    "# # model.add(Dense(10000, activation = LeakyReLU()) )\n",
    "# model.add(Dense(n_target) )\n",
    "\n",
    "# model_gpu = keras.utils.multi_gpu_model(model, gpus=2)\n",
    "# model_gpu.compile(loss=\"mean_squared_error\", optimizer='adadelta')\n",
    "# # for i in range(10):\n",
    "# model_gpu.fit(train_x,  train_y.reshape((-1,n_target)),batch_size=128, epochs=50, shuffle=True)\n",
    "\n",
    "# #     model.save('./models/GRU{}_m2m_unit32_var90_bs128_adadelta_lb5.h5'.format(i))"
   ]
  },
  {
   "cell_type": "code",
   "execution_count": 29,
   "metadata": {},
   "outputs": [],
   "source": [
    "# n_timesteps, n_features, n_outputs = train_x.shape[1], train_x.shape[2], train_y.shape[1]\n",
    "# filters = 32\n",
    "# kernel_size = 5\n",
    "# input_layer = Input(shape=(n_timesteps, n_features))\n",
    "\n",
    "# # Attention Layer\n",
    "# attention_probs = layers.Dense(n_features, activation='softmax')(input_layer)\n",
    "# attention_res = layers.multiply([input_layer, attention_probs])\n",
    "\n",
    "# cnn_layer = Conv1D(filters , kernel_size, padding='same')(attention_res)\n",
    "# cnn_layer = LeakyReLU()(cnn_layer)\n",
    "# cnn_layer = Conv1D(filters , kernel_size, padding='same')(cnn_layer)\n",
    "# cnn_layer = LeakyReLU()(cnn_layer)\n",
    "# cnn_layer = MaxPooling1D(pool_size=2)(cnn_layer)\n",
    "# cnn_layer = Conv1D(filters , kernel_size, padding='same')(cnn_layer)\n",
    "# cnn_layer = LeakyReLU()(cnn_layer)\n",
    "# cnn_layer = MaxPooling1D(pool_size=2)(cnn_layer)\n",
    "# cnn_layer = Conv1D(filters , kernel_size, padding='same')(cnn_layer)\n",
    "# cnn_layer = LeakyReLU()(cnn_layer)\n",
    "# cnn_layer = MaxPooling1D(pool_size=2)(cnn_layer)\n",
    "# cnn_layer = Flatten()(cnn_layer)\n",
    "# cnn_layer = Dense(32 )(cnn_layer)\n",
    "# cnn_lyaer = LeakyReLU()(cnn_layer)\n",
    "# cnn_layer = BatchNormalization()(cnn_layer)\n",
    "# cnn_layer = Dropout(0.2)(cnn_layer)\n",
    "\n",
    "# gru_layer = LSTM(32, input_shape=(train_x.shape[1], train_x.shape[2]), return_sequences=True)(attention_res)\n",
    "# gru_layer = LSTM(32, return_sequences=True)(gru_layer)\n",
    "# gru_layer = LSTM(32, return_sequences=True)(gru_layer)\n",
    "# gru_layer = LSTM(32, return_sequences=True)(gru_layer)\n",
    "# gru_layer = LSTM(32, return_sequences=False)(gru_layer)\n",
    "# gru_layer = Dense(32, activation='relu')(gru_layer)\n",
    "# gru_layer = BatchNormalization()(gru_layer)\n",
    "# gru_layer = Dropout(0.2)(gru_layer)\n",
    "\n",
    "# merge_layer = concatenate([gru_layer, cnn_layer])\n",
    "# output = Dense(n_outputs)(merge_layer)\n",
    "# output = BatchNormalization()(output)\n",
    "# # output = Activation('sigmoid')(output)\n",
    "\n",
    "# model = Model(inputs = input_layer, outputs = output )\n",
    "# model_gpu = keras.utils.multi_gpu_model(model, gpus=2)\n",
    "# model_gpu.compile(optimizer = 'adadelta', loss= 'mse')"
   ]
  },
  {
   "cell_type": "code",
   "execution_count": 30,
   "metadata": {
    "collapsed": true
   },
   "outputs": [
    {
     "name": "stdout",
     "output_type": "stream",
     "text": [
      "Epoch 1/100\n",
      "1140/1140 [==============================] - 12s 10ms/step - loss: 38.8614\n",
      "Epoch 2/100\n",
      "1140/1140 [==============================] - 2s 1ms/step - loss: 38.7381\n",
      "Epoch 3/100\n",
      "1140/1140 [==============================] - 2s 1ms/step - loss: 38.6779\n",
      "Epoch 4/100\n",
      "1140/1140 [==============================] - 2s 1ms/step - loss: 38.6276\n",
      "Epoch 5/100\n",
      "1140/1140 [==============================] - 2s 1ms/step - loss: 38.5313\n",
      "Epoch 6/100\n",
      "1140/1140 [==============================] - 2s 1ms/step - loss: 38.4380\n",
      "Epoch 7/100\n",
      "1140/1140 [==============================] - 2s 1ms/step - loss: 38.3624\n",
      "Epoch 8/100\n",
      "1140/1140 [==============================] - 2s 1ms/step - loss: 38.2451\n",
      "Epoch 9/100\n",
      "1140/1140 [==============================] - 2s 1ms/step - loss: 38.1460\n",
      "Epoch 10/100\n",
      "1140/1140 [==============================] - 2s 1ms/step - loss: 38.0408\n",
      "Epoch 11/100\n",
      "1140/1140 [==============================] - 2s 1ms/step - loss: 37.9370\n",
      "Epoch 12/100\n",
      "1140/1140 [==============================] - 2s 1ms/step - loss: 37.8617\n",
      "Epoch 13/100\n",
      "1140/1140 [==============================] - 2s 1ms/step - loss: 37.7743\n",
      "Epoch 14/100\n",
      "1140/1140 [==============================] - 2s 1ms/step - loss: 37.6459\n",
      "Epoch 15/100\n",
      "1140/1140 [==============================] - 2s 1ms/step - loss: 37.5718\n",
      "Epoch 16/100\n",
      "1140/1140 [==============================] - 2s 1ms/step - loss: 37.4544\n",
      "Epoch 17/100\n",
      "1140/1140 [==============================] - 2s 1ms/step - loss: 37.4166\n",
      "Epoch 18/100\n",
      "1140/1140 [==============================] - 2s 1ms/step - loss: 37.4594\n",
      "Epoch 19/100\n",
      "1140/1140 [==============================] - 2s 1ms/step - loss: 37.2173\n",
      "Epoch 20/100\n",
      "1140/1140 [==============================] - 2s 1ms/step - loss: 37.1250\n",
      "Epoch 21/100\n",
      "1140/1140 [==============================] - 2s 1ms/step - loss: 37.0417\n",
      "Epoch 22/100\n",
      "1140/1140 [==============================] - 2s 1ms/step - loss: 37.0433\n",
      "Epoch 23/100\n",
      "1140/1140 [==============================] - 2s 1ms/step - loss: 36.9358\n",
      "Epoch 24/100\n",
      "1140/1140 [==============================] - 2s 1ms/step - loss: 36.8361\n",
      "Epoch 25/100\n",
      "1140/1140 [==============================] - 2s 1ms/step - loss: 36.8096\n",
      "Epoch 26/100\n",
      "1140/1140 [==============================] - 2s 1ms/step - loss: 36.6928\n",
      "Epoch 27/100\n",
      "1140/1140 [==============================] - 2s 1ms/step - loss: 36.7183\n",
      "Epoch 28/100\n",
      "1140/1140 [==============================] - 2s 1ms/step - loss: 36.6556\n",
      "Epoch 29/100\n",
      "1140/1140 [==============================] - 2s 1ms/step - loss: 36.5471\n",
      "Epoch 30/100\n",
      "1140/1140 [==============================] - 2s 1ms/step - loss: 36.4863\n",
      "Epoch 31/100\n",
      "1140/1140 [==============================] - 2s 1ms/step - loss: 36.4012\n",
      "Epoch 32/100\n",
      "1140/1140 [==============================] - 2s 1ms/step - loss: 36.2625\n",
      "Epoch 33/100\n",
      "1140/1140 [==============================] - 2s 1ms/step - loss: 36.1655\n",
      "Epoch 34/100\n",
      "1140/1140 [==============================] - 2s 1ms/step - loss: 36.1036\n",
      "Epoch 35/100\n",
      "1140/1140 [==============================] - 2s 1ms/step - loss: 36.0131\n",
      "Epoch 36/100\n",
      "1140/1140 [==============================] - 2s 1ms/step - loss: 36.0484\n",
      "Epoch 37/100\n",
      "1140/1140 [==============================] - 2s 1ms/step - loss: 35.8694\n",
      "Epoch 38/100\n",
      "1140/1140 [==============================] - 2s 1ms/step - loss: 35.9081\n",
      "Epoch 39/100\n",
      "1140/1140 [==============================] - 2s 1ms/step - loss: 35.7237\n",
      "Epoch 40/100\n",
      "1140/1140 [==============================] - 2s 1ms/step - loss: 35.7865\n",
      "Epoch 41/100\n",
      "1140/1140 [==============================] - 2s 1ms/step - loss: 35.8159\n",
      "Epoch 42/100\n",
      "1140/1140 [==============================] - 2s 1ms/step - loss: 35.6430\n",
      "Epoch 43/100\n",
      "1140/1140 [==============================] - 2s 1ms/step - loss: 35.7014\n",
      "Epoch 44/100\n",
      "1140/1140 [==============================] - 2s 1ms/step - loss: 35.4356\n",
      "Epoch 45/100\n",
      "1140/1140 [==============================] - 2s 1ms/step - loss: 35.4228\n",
      "Epoch 46/100\n",
      "1140/1140 [==============================] - 2s 1ms/step - loss: 35.3409\n",
      "Epoch 47/100\n",
      "1140/1140 [==============================] - 2s 1ms/step - loss: 35.3686\n",
      "Epoch 48/100\n",
      "1140/1140 [==============================] - 2s 1ms/step - loss: 35.3522\n",
      "Epoch 49/100\n",
      "1140/1140 [==============================] - 2s 1ms/step - loss: 35.2510\n",
      "Epoch 50/100\n",
      "1140/1140 [==============================] - 2s 1ms/step - loss: 35.1660\n",
      "Epoch 51/100\n",
      "1140/1140 [==============================] - 2s 1ms/step - loss: 35.2422\n",
      "Epoch 52/100\n",
      "1140/1140 [==============================] - 2s 1ms/step - loss: 35.2228\n",
      "Epoch 53/100\n",
      "1140/1140 [==============================] - 2s 1ms/step - loss: 35.1203\n",
      "Epoch 54/100\n",
      "1140/1140 [==============================] - 2s 1ms/step - loss: 35.0619\n",
      "Epoch 55/100\n",
      "1140/1140 [==============================] - 2s 1ms/step - loss: 34.9327\n",
      "Epoch 56/100\n",
      "1140/1140 [==============================] - 2s 1ms/step - loss: 34.9562\n",
      "Epoch 57/100\n",
      "1140/1140 [==============================] - 2s 1ms/step - loss: 35.0326\n",
      "Epoch 58/100\n",
      "1140/1140 [==============================] - 2s 1ms/step - loss: 34.8596\n",
      "Epoch 59/100\n",
      "1140/1140 [==============================] - 2s 1ms/step - loss: 34.8541\n",
      "Epoch 60/100\n",
      "1140/1140 [==============================] - 2s 1ms/step - loss: 34.8312\n",
      "Epoch 61/100\n",
      "1140/1140 [==============================] - 2s 1ms/step - loss: 34.7695\n",
      "Epoch 62/100\n",
      "1140/1140 [==============================] - 2s 1ms/step - loss: 34.8414\n",
      "Epoch 63/100\n",
      "1140/1140 [==============================] - 2s 1ms/step - loss: 34.8011\n",
      "Epoch 64/100\n",
      "1140/1140 [==============================] - 2s 1ms/step - loss: 34.6420\n",
      "Epoch 65/100\n",
      "1140/1140 [==============================] - 2s 1ms/step - loss: 34.6596\n",
      "Epoch 66/100\n",
      "1140/1140 [==============================] - 2s 1ms/step - loss: 34.6512\n",
      "Epoch 67/100\n",
      "1140/1140 [==============================] - 2s 1ms/step - loss: 34.5929\n",
      "Epoch 68/100\n",
      "1140/1140 [==============================] - 2s 1ms/step - loss: 34.5575\n",
      "Epoch 69/100\n",
      "1140/1140 [==============================] - 2s 1ms/step - loss: 34.5633: 1s - l\n",
      "Epoch 70/100\n",
      "1140/1140 [==============================] - 2s 1ms/step - loss: 34.4587\n",
      "Epoch 71/100\n",
      "1140/1140 [==============================] - 2s 1ms/step - loss: 34.5395\n",
      "Epoch 72/100\n",
      "1140/1140 [==============================] - 2s 1ms/step - loss: 34.2974\n",
      "Epoch 73/100\n",
      "1140/1140 [==============================] - 2s 1ms/step - loss: 34.3494\n",
      "Epoch 74/100\n",
      "1140/1140 [==============================] - 2s 1ms/step - loss: 34.3210\n",
      "Epoch 75/100\n",
      "1140/1140 [==============================] - 2s 1ms/step - loss: 34.3383\n",
      "Epoch 76/100\n",
      "1140/1140 [==============================] - 2s 1ms/step - loss: 34.2839\n",
      "Epoch 77/100\n",
      "1140/1140 [==============================] - 2s 1ms/step - loss: 34.2745\n",
      "Epoch 78/100\n",
      "1140/1140 [==============================] - 2s 1ms/step - loss: 34.2065\n",
      "Epoch 79/100\n",
      "1140/1140 [==============================] - 2s 1ms/step - loss: 34.2057\n",
      "Epoch 80/100\n",
      "1140/1140 [==============================] - 2s 1ms/step - loss: 34.2304\n",
      "Epoch 81/100\n",
      "1140/1140 [==============================] - 2s 1ms/step - loss: 34.3652\n",
      "Epoch 82/100\n",
      "1140/1140 [==============================] - 2s 1ms/step - loss: 34.0576\n",
      "Epoch 83/100\n",
      "1140/1140 [==============================] - 2s 1ms/step - loss: 34.1007\n",
      "Epoch 84/100\n",
      "1140/1140 [==============================] - 2s 1ms/step - loss: 34.0391\n",
      "Epoch 85/100\n",
      "1140/1140 [==============================] - 2s 1ms/step - loss: 33.9994\n",
      "Epoch 86/100\n",
      "1140/1140 [==============================] - 2s 1ms/step - loss: 34.0299\n",
      "Epoch 87/100\n",
      "1140/1140 [==============================] - 2s 1ms/step - loss: 34.1460\n",
      "Epoch 88/100\n",
      "1140/1140 [==============================] - 2s 1ms/step - loss: 34.0442\n",
      "Epoch 89/100\n",
      "1140/1140 [==============================] - 2s 1ms/step - loss: 33.8732\n",
      "Epoch 90/100\n",
      "1140/1140 [==============================] - 2s 1ms/step - loss: 33.8448\n",
      "Epoch 91/100\n",
      "1140/1140 [==============================] - 2s 1ms/step - loss: 33.7661\n",
      "Epoch 92/100\n",
      "1140/1140 [==============================] - 2s 1ms/step - loss: 34.0620\n",
      "Epoch 93/100\n",
      "1140/1140 [==============================] - 2s 1ms/step - loss: 33.8033\n",
      "Epoch 94/100\n",
      "1140/1140 [==============================] - 2s 1ms/step - loss: 33.7929\n",
      "Epoch 95/100\n",
      "1140/1140 [==============================] - 2s 1ms/step - loss: 33.8319\n",
      "Epoch 96/100\n"
     ]
    },
    {
     "name": "stdout",
     "output_type": "stream",
     "text": [
      "1140/1140 [==============================] - 2s 1ms/step - loss: 33.8342\n",
      "Epoch 97/100\n",
      "1140/1140 [==============================] - 2s 1ms/step - loss: 33.8849\n",
      "Epoch 98/100\n",
      "1140/1140 [==============================] - 2s 1ms/step - loss: 33.9130\n",
      "Epoch 99/100\n",
      "1140/1140 [==============================] - 2s 1ms/step - loss: 33.7722\n",
      "Epoch 100/100\n",
      "1140/1140 [==============================] - 2s 1ms/step - loss: 33.7999\n"
     ]
    },
    {
     "data": {
      "text/plain": [
       "<keras.callbacks.History at 0x7f24382588d0>"
      ]
     },
     "execution_count": 30,
     "metadata": {},
     "output_type": "execute_result"
    }
   ],
   "source": [
    "model_gpu.fit(train_x,  train_y.reshape((-1,n_outputs)),batch_size=128, epochs=100, shuffle=True)"
   ]
  },
  {
   "cell_type": "code",
   "execution_count": 62,
   "metadata": {
    "scrolled": true
   },
   "outputs": [
    {
     "name": "stdout",
     "output_type": "stream",
     "text": [
      "0th iteration, loss : [23.507058923286305]\n",
      "1000th iteration, loss : [23.46006387409411]\n"
     ]
    }
   ],
   "source": [
    "# model_gpu = keras.utils.multi_gpu_model(model, gpus=2)\n",
    "# model_gpu.compile(loss=\"mean_squared_error\", optimizer='adam')\n",
    "for i in range(2000):\n",
    "    history = model_gpu.fit(train_x,  train_y.reshape((-1,n_outputs)),batch_size=128, epochs=1, shuffle=True, verbose=0)\n",
    "    if i % 1000==0:\n",
    "        print('{}th iteration, loss : {}'.format(i,history.history['loss']))"
   ]
  },
  {
   "cell_type": "markdown",
   "metadata": {},
   "source": [
    "### darknet53 "
   ]
  },
  {
   "cell_type": "code",
   "execution_count": 27,
   "metadata": {},
   "outputs": [],
   "source": [
    "def darknet53_residual_block(inputs, filters, training, data_format, strides=1):\n",
    "    \n",
    "    shortcut = inputs\n",
    "    inputs = tf.layers.conv1d(inputs = inputs, filters = filters, kernel_size = 1, strides = strides, padding='same')\n",
    "#     inputs = Conv1D(filters = filters, kernel_size=1, strides=strides, padding='same')(inputs)\n",
    "    inputs = tf.layers.batch_normalization(inputs)\n",
    "    inputs = tf.nn.leaky_relu(inputs)\n",
    "\n",
    "    inputs = tf.layers.conv1d(inputs = inputs, filters = 2*filters, kernel_size = 3, strides = strides, padding='same')\n",
    "    inputs = tf.layers.batch_normalization(inputs)\n",
    "    inputs = tf.nn.leaky_relu(inputs)\n",
    "    \n",
    "    inputs += shortcut\n",
    "    \n",
    "    return inputs\n",
    "\n",
    "def darknet53(inputs, y_true, training, data_format):\n",
    "    # 다크넷 53을 통해 특징 추출하기\n",
    "\n",
    "    inputs = tf.layers.conv1d(inputs = inputs, filters = 8, kernel_size = 3, strides = 1, padding='same')\n",
    "    inputs = tf.layers.batch_normalization(inputs)\n",
    "    inputs = tf.nn.leaky_relu(inputs)\n",
    "\n",
    "    inputs = tf.layers.conv1d(inputs = inputs, filters = 16, kernel_size = 3, strides = 2, padding='same')\n",
    "    inputs = tf.layers.batch_normalization(inputs)\n",
    "    inputs = tf.nn.leaky_relu(inputs)\n",
    "\n",
    "    inputs = darknet53_residual_block(inputs, filters=8, training=training, data_format=data_format)\n",
    "\n",
    "    \n",
    "    inputs = tf.layers.conv1d(inputs = inputs, filters = 32, kernel_size = 3, strides = 2, padding='same')\n",
    "    inputs = tf.layers.batch_normalization(inputs)\n",
    "    inputs = tf.nn.leaky_relu(inputs)\n",
    "\n",
    "    for _ in range(2):\n",
    "        inputs = darknet53_residual_block(inputs, filters=16, training=training, data_format= data_format)\n",
    "\n",
    "\n",
    "    inputs = tf.layers.conv1d(inputs = inputs, filters = 64, kernel_size = 3, strides = 2, padding='same')\n",
    "    inputs = tf.layers.batch_normalization(inputs)\n",
    "    inputs = tf.nn.leaky_relu(inputs)\n",
    "\n",
    "    for _ in range(8):\n",
    "        inputs = darknet53_residual_block(inputs, filters=32, training=training, data_format=data_format)\n",
    "\n",
    "    route1 = inputs\n",
    "\n",
    "    inputs = tf.layers.conv1d(inputs = inputs, filters = 128, kernel_size = 3, strides = 1, padding='same')\n",
    "    inputs = tf.layers.batch_normalization(inputs)\n",
    "    inputs = tf.nn.leaky_relu(inputs)\n",
    "\n",
    "    for _ in range(8):\n",
    "        inputs = darknet53_residual_block(inputs, filters=64, training=training, data_format= data_format)\n",
    "\n",
    "    route2 = inputs\n",
    "\n",
    "    inputs = tf.layers.conv1d(inputs = inputs, filters = 256, kernel_size = 3, strides = 1, padding='same')\n",
    "    inputs = tf.layers.batch_normalization(inputs)\n",
    "    inputs = tf.nn.leaky_relu(inputs)\n",
    "\n",
    "    for _ in range(4):\n",
    "        inputs = darknet53_residual_block(inputs, filters=128, training=training, data_format= data_format)\n",
    "\n",
    "    inputs = tf.concat([route1, route2, inputs], axis=-1)\n",
    "#     print(route1, route2, inputs)\n",
    "    inputs = tf.reshape(inputs, shape=(-1, inputs.shape[1] * inputs.shape[2]))\n",
    "    output = tf.compat.v1.layers.dense(inputs, units=10000)\n",
    "\n",
    "    loss = tf.losses.mean_squared_error(y_true, output)\n",
    "    optimizer = tf.train.AdadeltaOptimizer()\n",
    "    train = optimizer.minimize(loss)\n",
    "    \n",
    "    return output, loss ,train"
   ]
  },
  {
   "cell_type": "code",
   "execution_count": 32,
   "metadata": {
    "scrolled": true
   },
   "outputs": [],
   "source": [
    "inputs = tf.placeholder(tf.float32, shape = [None , train_x.shape[1], train_x.shape[2]])\n",
    "y_true = tf.placeholder(tf.float32, shape=[None, train_y.shape[1]])\n",
    "yhat, loss, train = darknet53(inputs, y_true, training= True, data_format=True)"
   ]
  },
  {
   "cell_type": "code",
   "execution_count": 46,
   "metadata": {
    "collapsed": true
   },
   "outputs": [
    {
     "name": "stdout",
     "output_type": "stream",
     "text": [
      "[563.9899]\n",
      "[117.16771]\n",
      "[33.869446]\n",
      "[34.583424]\n",
      "[67.03448]\n",
      "[22.209501]\n",
      "[30.317041]\n",
      "[53.437256]\n",
      "[19.19823]\n",
      "[53.247795]\n"
     ]
    }
   ],
   "source": [
    "batch_size =128\n",
    "# with tf.Session() as sess:\n",
    "sess = tf.Session()\n",
    "sess.run(tf.global_variables_initializer())\n",
    "n_iter = train_x.shape[0]//batch_size\n",
    "for i in range(1000):\n",
    "    for batch in range(n_iter+1):\n",
    "        if batch == n_iter:\n",
    "            _ = sess.run([train], feed_dict={inputs : train_x[batch_size * batch :] , \n",
    "                                             y_true : train_y[batch_size * batch :]})                \n",
    "        else:\n",
    "            _ = sess.run([train], feed_dict={inputs : train_x[batch_size * batch : batch_size * (batch+1)] , \n",
    "                                             y_true : train_y[batch_size * batch : batch_size * (batch+1)]})\n",
    "    if i %100 ==0:\n",
    "        random_idx = np.random.choice(range(n_iter),size=1)[0]\n",
    "        print(sess.run([loss], feed_dict={inputs : train_x[random_idx * batch_size : (random_idx+1) * batch_size],\n",
    "                                           y_true : train_y[random_idx * batch_size : (random_idx+1) * batch_size]}))"
   ]
  },
  {
   "cell_type": "code",
   "execution_count": 63,
   "metadata": {
    "collapsed": true
   },
   "outputs": [
    {
     "name": "stdout",
     "output_type": "stream",
     "text": [
      "[15.782116]\n",
      "[33.547104]\n",
      "[15.776874]\n",
      "[52.682877]\n",
      "[33.527317]\n",
      "[33.520973]\n",
      "[21.69803]\n",
      "[15.766019]\n",
      "[21.691126]\n",
      "[18.891125]\n",
      "[21.684566]\n",
      "[66.02061]\n",
      "[33.478127]\n",
      "[33.472164]\n",
      "[66.006065]\n",
      "[33.460274]\n",
      "[33.454273]\n",
      "[33.448223]\n",
      "[33.44217]\n",
      "[33.43603]\n",
      "[15.746897]\n",
      "[18.88878]\n",
      "[18.889116]\n",
      "[33.410683]\n",
      "[33.40425]\n",
      "[30.02595]\n",
      "[21.638481]\n",
      "[33.384735]\n",
      "[52.249043]\n",
      "[30.022434]\n",
      "[52.194286]\n",
      "[36.125282]\n",
      "[15.734456]\n",
      "[52.104053]\n",
      "[30.017965]\n",
      "[52.036133]\n",
      "[21.614822]\n",
      "[36.11218]\n",
      "[21.61059]\n",
      "[21.608538]\n"
     ]
    }
   ],
   "source": [
    "for i in range(4000):\n",
    "    for batch in range(n_iter+1):\n",
    "        if batch == n_iter:\n",
    "            _ = sess.run([train], feed_dict={inputs : train_x[batch_size * batch :] , \n",
    "                                             y_true : train_y[batch_size * batch :]})                \n",
    "        else:\n",
    "            _ = sess.run([train], feed_dict={inputs : train_x[batch_size * batch : batch_size * (batch+1)] , \n",
    "                                             y_true : train_y[batch_size * batch : batch_size * (batch+1)]})\n",
    "    if i %100 ==0:\n",
    "        random_idx = np.random.choice(range(n_iter),size=1)[0]\n",
    "        print(sess.run([loss], feed_dict={inputs : train_x[random_idx * batch_size : (random_idx+1) * batch_size],\n",
    "                                           y_true : train_y[random_idx * batch_size : (random_idx+1) * batch_size]}))"
   ]
  },
  {
   "cell_type": "markdown",
   "metadata": {},
   "source": [
    "-----------"
   ]
  },
  {
   "cell_type": "code",
   "execution_count": 70,
   "metadata": {
    "scrolled": true
   },
   "outputs": [
    {
     "data": {
      "text/plain": [
       "[<matplotlib.lines.Line2D at 0x7fa7804c8dd8>]"
      ]
     },
     "execution_count": 70,
     "metadata": {},
     "output_type": "execute_result"
    },
    {
     "data": {
      "image/png": "[encoded data removed]",
      "text/plain": [
       "<Figure size 1152x360 with 2 Axes>"
      ]
     },
     "metadata": {
      "needs_background": "light"
     },
     "output_type": "display_data"
    }
   ],
   "source": [
    "import time\n",
    "test_index = 500\n",
    "# with tf.Session() as sess:\n",
    "y_hat = sess.run(yhat, feed_dict={inputs : np.reshape(train_x[test_index], (-1,20,3))})\n",
    "# start = time.time()\n",
    "# yhat = model.predict(train_x[index].reshape((-1,20, 3)))\n",
    "# print(time.time() - start)\n",
    "\n",
    "fig = plt.figure(figsize=(16, 5))\n",
    "ax1 = fig.add_subplot(1,2,1)\n",
    "# plt.plot(train_x[0], label ='ogirinal_phase')\n",
    "ax1.plot(y_hat[0])\n",
    "# plt.plot(data_list[0])\n",
    "ax2 = fig.add_subplot(1,2,2)\n",
    "ax2.plot(train_y[test_index])\n"
   ]
  },
  {
   "cell_type": "code",
   "execution_count": 34,
   "metadata": {},
   "outputs": [],
   "source": [
    "from keras.models import load_model"
   ]
  },
  {
   "cell_type": "code",
   "execution_count": 30,
   "metadata": {},
   "outputs": [],
   "source": [
    "model_gpu.save('./models/lookback1k_ts10k.h5')\n",
    "# model_gpu.save_weights('./models/lb1k_ts10k_weights')"
   ]
  },
  {
   "cell_type": "code",
   "execution_count": 35,
   "metadata": {},
   "outputs": [
    {
     "name": "stdout",
     "output_type": "stream",
     "text": [
      "['input_9']\n",
      "['batch_normalization_27/cond/Merge']\n"
     ]
    }
   ],
   "source": [
    "#input \n",
    "print([node.op.name for node in model.inputs])\n",
    "#output \n",
    "print([node.op.name for node in model.outputs])"
   ]
  },
  {
   "cell_type": "code",
   "execution_count": null,
   "metadata": {},
   "outputs": [],
   "source": []
  }
 ],
 "metadata": {
  "kernelspec": {
   "display_name": "Python 3",
   "language": "python",
   "name": "python3"
  },
  "language_info": {
   "codemirror_mode": {
    "name": "ipython",
    "version": 3
   },
   "file_extension": ".py",
   "mimetype": "text/x-python",
   "name": "python",
   "nbconvert_exporter": "python",
   "pygments_lexer": "ipython3",
   "version": "3.6.7"
  }
 },
 "nbformat": 4,
 "nbformat_minor": 2
}
